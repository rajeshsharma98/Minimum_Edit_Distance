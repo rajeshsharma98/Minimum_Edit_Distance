{
  "nbformat": 4,
  "nbformat_minor": 0,
  "metadata": {
    "kernelspec": {
      "display_name": "Python 3.6.9 64-bit",
      "language": "python",
      "name": "python36964bit0589b81ea385471ca4d980cbe8ee6f7a"
    },
    "language_info": {
      "codemirror_mode": {
        "name": "ipython",
        "version": 3
      },
      "file_extension": ".py",
      "mimetype": "text/x-python",
      "name": "python",
      "nbconvert_exporter": "python",
      "pygments_lexer": "ipython3",
      "version": "3.6.9"
    },
    "colab": {
      "name": "Copy of tut3.ipynb",
      "provenance": []
    }
  },
  "cells": [
    {
      "cell_type": "markdown",
      "metadata": {
        "id": "X9a2QA8exnwb"
      },
      "source": [
        "# Minimum Edit Distance & Spell Checking using the same"
      ]
    },
    {
      "cell_type": "markdown",
      "metadata": {
        "id": "qqw5wUY7oPwN"
      },
      "source": [
        "## Edit Distance"
      ]
    },
    {
      "cell_type": "code",
      "metadata": {
        "id": "8EggwR07oPwP"
      },
      "source": [
        "import numpy as np\n",
        "\n",
        "class MED:\n",
        "    # for diagonal approach add cost only when characters are not equal \n",
        "    def levenshtein(self,seq1,seq2):\n",
        "        self.seq1, self.seq2 = seq1, seq2\n",
        "\n",
        "        size_x = len(self.seq1) + 1  # Target Word\n",
        "        size_y = len(self.seq2) + 1  # Source Word\n",
        "        # Matrix initialization\n",
        "        matrix = np.zeros((size_x, size_y))\n",
        "\n",
        "        # First Row\n",
        "        for x in range(size_x):\n",
        "            matrix [x, 0] = x # Cost for that point is position of that character\n",
        "\n",
        "        # First Column\n",
        "        for y in range(size_y):\n",
        "            matrix [0, y] = y\n",
        "\n",
        "        # started from index 1 as first row and column already initialized\n",
        "        for x in range(1, size_x):  # Row loop\n",
        "            for y in range(1, size_y): # Column loop\n",
        "            # First need to check if both characters are equal or not\n",
        "            # both characters are equal then diagonal operation we add no cost\n",
        "                if self.seq1[x-1] == self.seq2[y-1]:\n",
        "                    matrix [x,y] = min(\n",
        "                        matrix[x-1, y] + 1,\n",
        "                        matrix[x, y-1] + 1,\n",
        "                        matrix[x-1, y-1]\n",
        "                        \n",
        "                    )\n",
        "                else:\n",
        "                    matrix [x,y] = min(\n",
        "                        matrix[x-1,y] + 1,\n",
        "                        matrix[x-1,y-1] + 2,\n",
        "                        matrix[x,y-1] + 1\n",
        "                    )\n",
        "        # matrix[size_x - 1, size_y - 1] = its the last row and last column of the matrix        \n",
        "        self.dist = matrix[size_x - 1, size_y - 1]\n",
        "        return matrix, matrix[size_x - 1, size_y - 1]\n",
        "\n",
        "\n",
        "    def print_matrix(self):\n",
        "        w1 = self.seq1\n",
        "        w2 = self.seq2\n",
        "        mat, self.dist = levenshtein(w1,w2)\n",
        "        print(\" \",end=\" \")\n",
        "        for j in range(len(w2)+1):\n",
        "            if j == 0:\n",
        "                print(\"#\",end=\" \")\n",
        "            else:\n",
        "                print(w2[j-1],end=\" \")\n",
        "        print()\n",
        "        for i in range(len(w1)+1):\n",
        "            if i == 0:\n",
        "                print(\"#\",end=\" \")\n",
        "            else:\n",
        "                print(w1[i-1],end=\" \")\n",
        "            for j in range(len(w2)+1):\n",
        "                print(int(mat[i][j]),end=\" \")\n",
        "            print()\n",
        "        print()\n",
        "        print(\"Minimum Edit Distance: \",self.dist)"
      ],
      "execution_count": 52,
      "outputs": []
    },
    {
      "cell_type": "code",
      "metadata": {
        "colab": {
          "base_uri": "https://localhost:8080/"
        },
        "id": "S4nYPcJ5u-hs",
        "outputId": "831e9832-44ad-42e5-ff3a-d5492d5a6f5f"
      },
      "source": [
        "word1 = \"trial\"\n",
        "word2 = \"zeil\"\n",
        "\n",
        "obj = MED()\n",
        "obj.levenshtein(word1, word2)\n",
        "obj.print_matrix()"
      ],
      "execution_count": 54,
      "outputs": [
        {
          "output_type": "stream",
          "text": [
            "  # z e i l \n",
            "# 0 1 2 3 4 \n",
            "t 1 2 3 4 5 \n",
            "r 2 3 4 5 6 \n",
            "i 3 4 5 4 5 \n",
            "a 4 5 6 5 6 \n",
            "l 5 6 7 6 5 \n",
            "\n",
            "Minimum Edit Distance:  5.0\n"
          ],
          "name": "stdout"
        }
      ]
    },
    {
      "cell_type": "code",
      "metadata": {
        "id": "hQnedtv2oPwP",
        "colab": {
          "base_uri": "https://localhost:8080/"
        },
        "outputId": "05d716fa-9a00-4917-dd2f-c50163a1d01e"
      },
      "source": [
        "word1 = \"sitting\"\n",
        "word2 = \"kitten\"\n",
        "\n",
        "obj = MED()\n",
        "obj.levenshtein(word1, word2)\n",
        "obj.print_matrix()"
      ],
      "execution_count": 55,
      "outputs": [
        {
          "output_type": "stream",
          "text": [
            "  # k i t t e n \n",
            "# 0 1 2 3 4 5 6 \n",
            "s 1 2 3 4 5 6 7 \n",
            "i 2 3 2 3 4 5 6 \n",
            "t 3 4 3 2 3 4 5 \n",
            "t 4 5 4 3 2 3 4 \n",
            "i 5 6 5 4 3 4 5 \n",
            "n 6 7 6 5 4 5 4 \n",
            "g 7 8 7 6 5 6 5 \n",
            "\n",
            "Minimum Edit Distance:  5.0\n"
          ],
          "name": "stdout"
        }
      ]
    },
    {
      "cell_type": "markdown",
      "metadata": {
        "id": "_srwCtQMoPwQ"
      },
      "source": [
        "## Spell checking using edit distance"
      ]
    },
    {
      "cell_type": "code",
      "metadata": {
        "colab": {
          "base_uri": "https://localhost:8080/"
        },
        "id": "rsnXcHwpwmnA",
        "outputId": "81e0663b-1fb0-42af-ec4d-212966ac79d6"
      },
      "source": [
        "!pip install english-words"
      ],
      "execution_count": 44,
      "outputs": [
        {
          "output_type": "stream",
          "text": [
            "Collecting english-words\n",
            "\u001b[?25l  Downloading https://files.pythonhosted.org/packages/29/55/29a1d27cd11efa447ef98ec18ffcc6b32fa92af13e6473d410fff9799cf3/english-words-1.0.3.tar.gz (352kB)\n",
            "\u001b[K     |████████████████████████████████| 358kB 4.0MB/s \n",
            "\u001b[?25hBuilding wheels for collected packages: english-words\n",
            "  Building wheel for english-words (setup.py) ... \u001b[?25l\u001b[?25hdone\n",
            "  Created wheel for english-words: filename=english_words-1.0.3-cp37-none-any.whl size=352083 sha256=06eab6d3d93b091d4aa8c4c06af0fe9226ce77bfb36f92dbe8934fa463f096db\n",
            "  Stored in directory: /root/.cache/pip/wheels/0b/b1/06/c5071d0b99cabc5e7a8b0d8ab5c0b8d00da83b367990439d1e\n",
            "Successfully built english-words\n",
            "Installing collected packages: english-words\n",
            "Successfully installed english-words-1.0.3\n"
          ],
          "name": "stdout"
        }
      ]
    },
    {
      "cell_type": "code",
      "metadata": {
        "id": "1jdVOrnMoPwQ",
        "colab": {
          "base_uri": "https://localhost:8080/"
        },
        "outputId": "155ca69c-97ba-4966-864b-9a860069d11f"
      },
      "source": [
        "''' Approach used: '''\n",
        "# fetch a set of english vocabulary\n",
        "from english_words import english_words_set\n",
        "len(list(english_words_set))"
      ],
      "execution_count": 45,
      "outputs": [
        {
          "output_type": "execute_result",
          "data": {
            "text/plain": [
              "25487"
            ]
          },
          "metadata": {
            "tags": []
          },
          "execution_count": 45
        }
      ]
    },
    {
      "cell_type": "code",
      "metadata": {
        "id": "xHip5tdMoPwQ"
      },
      "source": [
        "obj = MED()\n",
        "\n",
        "def giveSuggestions(word, numWords):\n",
        "    WordDist = {}\n",
        "    \n",
        "    # following for loop returns dictionary where key is english-words and value is MED of that word with our word\n",
        "    for eng_word in english_words_set:\n",
        "        _, wordDistance = obj.levenshtein(word, eng_word)\n",
        "        WordDist[eng_word] = wordDistance\n",
        "        \n",
        "    # As we calculated MED with all the words but we are interested in first numWords\n",
        "    sorted_MED_words = sorted(WordDist.items(), key=lambda item: item[1])\n",
        "\n",
        "    closest_Words = []\n",
        "    for w,v in sorted_MED_words[:numWords]:\n",
        "        closest_Words.append(w)\n",
        "    return closest_Words"
      ],
      "execution_count": 58,
      "outputs": []
    },
    {
      "cell_type": "code",
      "metadata": {
        "id": "9yFhBCLIoPwR",
        "colab": {
          "base_uri": "https://localhost:8080/"
        },
        "outputId": "db02363e-1b93-4caa-ccbd-95b633b5d40e"
      },
      "source": [
        "word = 'bottale'\n",
        "no_of_suggestions = 4\n",
        "giveSuggestions(word,no_of_suggestions)"
      ],
      "execution_count": 59,
      "outputs": [
        {
          "output_type": "execute_result",
          "data": {
            "text/plain": [
              "['bottle', 'tale', 'mottle', 'bale']"
            ]
          },
          "metadata": {
            "tags": []
          },
          "execution_count": 59
        }
      ]
    }
  ]
}